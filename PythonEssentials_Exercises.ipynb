{
 "cells": [
  {
   "cell_type": "markdown",
   "id": "8b6e62e2-e4af-4187-96ee-14ac3f0e07da",
   "metadata": {
    "jp-MarkdownHeadingCollapsed": true
   },
   "source": [
    "# Classes"
   ]
  },
  {
   "cell_type": "code",
   "execution_count": 1,
   "id": "54014d2d-5859-4362-8a0d-913598c4152f",
   "metadata": {},
   "outputs": [],
   "source": [
    "class Dog: #This is the class\n",
    "    def __init__(self, name): \n",
    "        self.name = name #Attribute\n",
    "        self.legs = 4\n",
    "\n",
    "    def speak(self):\n",
    "        print(self.name + ' says: Bark!')"
   ]
  },
  {
   "cell_type": "code",
   "execution_count": 55,
   "id": "074b8e35-7c52-445e-9db0-946a24a74edd",
   "metadata": {},
   "outputs": [
    {
     "name": "stdout",
     "output_type": "stream",
     "text": [
      "Yrina says: Bark!\n"
     ]
    }
   ],
   "source": [
    "my_dog= Dog('Yrina')\n",
    "my_dog.speak()"
   ]
  },
  {
   "cell_type": "code",
   "execution_count": 59,
   "id": "f7be4195-3738-41da-a3da-adf9a4ded64b",
   "metadata": {},
   "outputs": [
    {
     "data": {
      "text/plain": [
       "__main__.Dog"
      ]
     },
     "execution_count": 59,
     "metadata": {},
     "output_type": "execute_result"
    }
   ],
   "source": [
    "type(Dog('Yrina'))"
   ]
  },
  {
   "cell_type": "markdown",
   "id": "95d27db4-219b-4ff3-bfca-da6799aa5361",
   "metadata": {
    "jp-MarkdownHeadingCollapsed": true
   },
   "source": [
    "# Exercise 1"
   ]
  },
  {
   "cell_type": "code",
   "execution_count": 49,
   "id": "c9761bc0-21b7-4e37-9a58-2ad4a7c289eb",
   "metadata": {},
   "outputs": [],
   "source": [
    "#My answer\n",
    "def factorial(num):\n",
    "    if num != int:\n",
    "        return None\n",
    "    if num > 0:\n",
    "        solution=1\n",
    "        for i in range(1,num+1):\n",
    "            solution*=i\n",
    "        return solution\n",
    "    elif num == 0:\n",
    "        return 1\n",
    "    else: \n",
    "        return None"
   ]
  },
  {
   "cell_type": "code",
   "execution_count": 52,
   "id": "eb4b8533-13d5-4934-904e-44f4b745af89",
   "metadata": {},
   "outputs": [
    {
     "data": {
      "text/plain": [
       "120"
      ]
     },
     "execution_count": 52,
     "metadata": {},
     "output_type": "execute_result"
    }
   ],
   "source": [
    "factorial(5)"
   ]
  },
  {
   "cell_type": "code",
   "execution_count": 53,
   "id": "9bab288f-fd21-4b6c-9f33-645c3528cf8c",
   "metadata": {},
   "outputs": [],
   "source": [
    "#Example Answer\n",
    "def factorial(num):\n",
    "    if type(num) != int:\n",
    "        return None\n",
    "    if num < 0:\n",
    "        return None\n",
    "    if num == 0:\n",
    "        return 1\n",
    "    return num * factorial(num-1)"
   ]
  },
  {
   "cell_type": "code",
   "execution_count": 54,
   "id": "69b12dde-a18e-4c7c-b4f9-feb1b5b379c4",
   "metadata": {},
   "outputs": [
    {
     "data": {
      "text/plain": [
       "120"
      ]
     },
     "execution_count": 54,
     "metadata": {},
     "output_type": "execute_result"
    }
   ],
   "source": [
    "factorial(5)"
   ]
  },
  {
   "cell_type": "markdown",
   "id": "23aac40b-52d3-43d5-bc98-997dc29770a3",
   "metadata": {
    "jp-MarkdownHeadingCollapsed": true
   },
   "source": [
    "# Integers and Floats"
   ]
  },
  {
   "cell_type": "code",
   "execution_count": 61,
   "id": "b6f4c1ee-e8a3-499e-beeb-b5cd1fcc9916",
   "metadata": {},
   "outputs": [],
   "source": [
    "from decimal import Decimal, getcontext"
   ]
  },
  {
   "cell_type": "code",
   "execution_count": 62,
   "id": "f8e9eea7-621e-485b-810a-e199497cc753",
   "metadata": {},
   "outputs": [
    {
     "data": {
      "text/plain": [
       "Context(prec=28, rounding=ROUND_HALF_EVEN, Emin=-999999, Emax=999999, capitals=1, clamp=0, flags=[], traps=[InvalidOperation, DivisionByZero, Overflow])"
      ]
     },
     "execution_count": 62,
     "metadata": {},
     "output_type": "execute_result"
    }
   ],
   "source": [
    "getcontext()"
   ]
  },
  {
   "cell_type": "code",
   "execution_count": 66,
   "id": "bfcd34d2-f393-4f6e-965a-f23f489e10f9",
   "metadata": {},
   "outputs": [],
   "source": [
    "getcontext().prec=2"
   ]
  },
  {
   "cell_type": "code",
   "execution_count": 70,
   "id": "17dc132c-c926-4d3b-8ad3-31c32676d75c",
   "metadata": {},
   "outputs": [
    {
     "data": {
      "text/plain": [
       "Decimal('1.14')"
      ]
     },
     "execution_count": 70,
     "metadata": {},
     "output_type": "execute_result"
    }
   ],
   "source": [
    "Decimal('1.14')"
   ]
  },
  {
   "cell_type": "code",
   "execution_count": 83,
   "id": "1c37fc64-4ce4-47c1-a422-76ee6707c21e",
   "metadata": {},
   "outputs": [
    {
     "data": {
      "text/plain": [
       "True"
      ]
     },
     "execution_count": 83,
     "metadata": {},
     "output_type": "execute_result"
    }
   ],
   "source": [
    "bool(1j)"
   ]
  },
  {
   "cell_type": "markdown",
   "id": "774018a4-19fa-4b4f-b25c-e2f5dd26f1f3",
   "metadata": {
    "jp-MarkdownHeadingCollapsed": true
   },
   "source": [
    "# String"
   ]
  },
  {
   "cell_type": "code",
   "execution_count": 87,
   "id": "9631c60c-c2f7-4e77-a719-d2adaf3482d5",
   "metadata": {},
   "outputs": [
    {
     "data": {
      "text/plain": [
       "'My age is 22'"
      ]
     },
     "execution_count": 87,
     "metadata": {},
     "output_type": "execute_result"
    }
   ],
   "source": [
    "age = f'My age is {2*11}'\n",
    "age"
   ]
  },
  {
   "cell_type": "markdown",
   "id": "c10145f7-0001-40a2-8c6c-ddba7a52493a",
   "metadata": {
    "jp-MarkdownHeadingCollapsed": true
   },
   "source": [
    "# Exercise 2"
   ]
  },
  {
   "cell_type": "code",
   "execution_count": 88,
   "id": "0769b37a-f540-412d-8a32-1e9686a2f6fe",
   "metadata": {},
   "outputs": [],
   "source": [
    "# Python code​​​​​​‌‌​​​​​‌‌​​​​​​‌​‌​​‌‌​​‌ below\n",
    "hexNumbers = {\n",
    "    '0': 0, '1': 1, '2': 2, '3': 3, '4': 4, '5': 5, '6': 6, '7': 7, '8': 8, '9': 9,\n",
    "    'A': 10, 'B': 11, 'C': 12, 'D': 13, 'E': 14, 'F': 15\n",
    "}"
   ]
  },
  {
   "cell_type": "code",
   "execution_count": 129,
   "id": "95f492cc-2531-4860-a1da-2111acc00bd9",
   "metadata": {},
   "outputs": [],
   "source": [
    "def hexToDec(hexNum):\n",
    "    hexNum = str(hexNum).upper()\n",
    "    \n",
    "    int = 0\n",
    "    count = len(hexNum) - 1\n",
    "    for each_char in hexNum:\n",
    "        if each_char not in hexNumbers:\n",
    "            return None\n",
    "        int += hexNumbers[each_char] * 16**count\n",
    "        count-= 1 \n",
    "    return int"
   ]
  },
  {
   "cell_type": "code",
   "execution_count": 131,
   "id": "53caa175-3802-4d89-bbe1-bbcb78c8f4f7",
   "metadata": {},
   "outputs": [
    {
     "data": {
      "text/plain": [
       "10941"
      ]
     },
     "execution_count": 131,
     "metadata": {},
     "output_type": "execute_result"
    }
   ],
   "source": [
    "hexToDec('2aBd')"
   ]
  },
  {
   "cell_type": "code",
   "execution_count": 147,
   "id": "b89898d1-825f-45e1-b6dd-08a97b5ddf2a",
   "metadata": {},
   "outputs": [
    {
     "data": {
      "text/plain": [
       "10941"
      ]
     },
     "execution_count": 147,
     "metadata": {},
     "output_type": "execute_result"
    }
   ],
   "source": [
    "int('2aBd',16)"
   ]
  },
  {
   "cell_type": "markdown",
   "id": "04702e07-d95a-4794-9991-cb3e6878be93",
   "metadata": {},
   "source": [
    "# Exercise 3\n",
    "Write a two functions, one that codes and other that decodes a string like this: 'AAABBBA' to [('A',3),('B',3),('A',1)], and viceversa "
   ]
  },
  {
   "cell_type": "code",
   "execution_count": 308,
   "id": "c6d65af6-6d3f-4aeb-bc41-f256e04eadd8",
   "metadata": {},
   "outputs": [],
   "source": [
    "def encodeString(string):\n",
    "    character = []\n",
    "    prevChar = None\n",
    "    for char in string:\n",
    "        if char != prevChar:\n",
    "            character+= char        \n",
    "        prevChar = char\n",
    "    \n",
    "    frequency = []\n",
    "    str_position = 0\n",
    "    for char in character:\n",
    "        count = 0   \n",
    "        while str_position<len(string) and char == string[str_position]:\n",
    "            str_position += 1\n",
    "            count += 1\n",
    "        frequency += [count]\n",
    "    \n",
    "    count = 0\n",
    "    result = []\n",
    "    while count<len(character):\n",
    "        result += [(character[count],frequency[count])]\n",
    "        count+=1\n",
    "        \n",
    "    return result"
   ]
  },
  {
   "cell_type": "code",
   "execution_count": 318,
   "id": "655023d4-bb5a-4b9d-8117-69672084d580",
   "metadata": {},
   "outputs": [],
   "source": [
    "def decodeString(encodedList):\n",
    "    full_string = ''\n",
    "    for each_tuple in encodedList:\n",
    "        full_string += each_tuple[0] * each_tuple[1]\n",
    "    return full_string"
   ]
  },
  {
   "cell_type": "code",
   "execution_count": 319,
   "id": "4f73595e-e3c0-46c9-ba9a-a3b46f741c90",
   "metadata": {},
   "outputs": [
    {
     "name": "stdout",
     "output_type": "stream",
     "text": [
      "[('A', 3), ('h', 6), (' ', 1), ('Q', 1), ('u', 1), ('e', 1), (' ', 1), ('H', 1), ('o', 1), ('r', 2), ('o', 6), ('r', 1)]\n"
     ]
    },
    {
     "data": {
      "text/plain": [
       "'AAAhhhhhh Que Horroooooor'"
      ]
     },
     "execution_count": 319,
     "metadata": {},
     "output_type": "execute_result"
    }
   ],
   "source": [
    "check = encodeString('AAAhhhhhh Que Horroooooor')\n",
    "print(check)\n",
    "decodeString(check)"
   ]
  },
  {
   "cell_type": "code",
   "execution_count": 336,
   "id": "17e28499-0fdc-4eb5-9197-3bf81d450b66",
   "metadata": {},
   "outputs": [],
   "source": [
    "#Other way to code encondeString\n",
    "def encodeString(string):\n",
    "    encoded_str = []\n",
    "    prev_char = string[0]\n",
    "    count = 0\n",
    "    for char in string:\n",
    "        if char != prev_char:\n",
    "            encoded_str += [(prev_char,count)]\n",
    "            count = 0\n",
    "        count += 1\n",
    "        prev_char = char\n",
    "    encoded_str += [(prev_char,count)]\n",
    "    return encoded_str"
   ]
  },
  {
   "cell_type": "markdown",
   "id": "12a83e85-66e7-4673-bd8f-f40c873a0666",
   "metadata": {
    "jp-MarkdownHeadingCollapsed": true
   },
   "source": [
    "# Exercise 4\n",
    "Write a function that gives all the prime numbers before set number in the most efficient way"
   ]
  },
  {
   "cell_type": "code",
   "execution_count": 115,
   "id": "5c759129-caf2-4040-bc07-67a3b805f9bf",
   "metadata": {},
   "outputs": [],
   "source": [
    "def allPrimesUpTo(num):\n",
    "    list_primes = []\n",
    "    for number in range(2,num):\n",
    "        for factor in list_primes:\n",
    "            if number % factor == 0:\n",
    "                break \n",
    "        else:\n",
    "            list_primes += [number]\n",
    "    return list_primes\n"
   ]
  },
  {
   "cell_type": "code",
   "execution_count": 116,
   "id": "2efd8902-671d-4288-b93a-3fd6b4d0b897",
   "metadata": {},
   "outputs": [
    {
     "data": {
      "text/plain": [
       "[2, 3, 5, 7, 11, 13, 17, 19, 23, 29, 31, 37]"
      ]
     },
     "execution_count": 116,
     "metadata": {},
     "output_type": "execute_result"
    }
   ],
   "source": [
    "allPrimesUpTo(40)"
   ]
  },
  {
   "cell_type": "code",
   "execution_count": 125,
   "id": "feb09180-4dc7-454d-adf1-dd50e3e3f99a",
   "metadata": {},
   "outputs": [],
   "source": [
    "def allPrimesUpTo(num):\n",
    "    list_primes = [2]\n",
    "    for number in range(3,num):\n",
    "        sqrtNum = number**0.5\n",
    "        for factor in list_primes:\n",
    "            if number % factor == 0:\n",
    "                break \n",
    "            if factor > sqrtNum:\n",
    "                list_primes.append(number)\n",
    "                break\n",
    "    return list_primes"
   ]
  },
  {
   "cell_type": "code",
   "execution_count": 126,
   "id": "ed2f5a3d-8cc4-4fc8-a29b-1fa29f737359",
   "metadata": {},
   "outputs": [
    {
     "data": {
      "text/plain": [
       "[2, 3, 5, 7, 11, 13, 17, 19, 23, 29, 31, 37]"
      ]
     },
     "execution_count": 126,
     "metadata": {},
     "output_type": "execute_result"
    }
   ],
   "source": [
    "allPrimesUpTo(40)"
   ]
  },
  {
   "cell_type": "markdown",
   "id": "3e2c4d1f-f3c9-432a-9147-3b1e208b25a9",
   "metadata": {
    "jp-MarkdownHeadingCollapsed": true
   },
   "source": [
    "# Exercise 5\n",
    "Write a function that calculates the square of a number using their trinagle number, no multiplications allowed"
   ]
  },
  {
   "cell_type": "code",
   "execution_count": 172,
   "id": "ca73d5af-e866-480a-a1ff-ffcad4cdade8",
   "metadata": {},
   "outputs": [],
   "source": [
    "def triangle(num):\n",
    "    if num == 1:\n",
    "        return num\n",
    "    return num + triangle(num - 1)\n",
    "\n",
    "def square(num):\n",
    "    if num == 0:\n",
    "        sqr = 0\n",
    "    else:\n",
    "        sqr = triangle(abs(num))+triangle(abs(num)-1)\n",
    "    return sqr"
   ]
  },
  {
   "cell_type": "code",
   "execution_count": 179,
   "id": "e1bf1c0b-6038-4ae7-abab-fb2b9e6566ba",
   "metadata": {},
   "outputs": [
    {
     "data": {
      "text/plain": [
       "16"
      ]
     },
     "execution_count": 179,
     "metadata": {},
     "output_type": "execute_result"
    }
   ],
   "source": [
    "square(-4)"
   ]
  },
  {
   "cell_type": "markdown",
   "id": "df1825e1-5a75-40c1-b2d7-8d9579353fda",
   "metadata": {
    "jp-MarkdownHeadingCollapsed": true
   },
   "source": [
    "# Exercise 6\n",
    "Build a class that allows you to print a square or a triangle"
   ]
  },
  {
   "cell_type": "code",
   "execution_count": 180,
   "id": "e3a55596-f0bd-4f71-9baa-d3ad5bb2ae56",
   "metadata": {},
   "outputs": [],
   "source": [
    "class Shape:\n",
    "    def __init__(self, height, width, shape_type):\n",
    "        self.height = height +1\n",
    "        self.width = width +1\n",
    "        self.printChar = '#'\n",
    "        self.shape_type = shape_type\n",
    "\n",
    "\n",
    "    def print(self):\n",
    "        for i in range(self.height):\n",
    "            self.printRow(i)\n",
    "\n",
    "class Square(Shape):\n",
    "    def printRow(self, i):\n",
    "        print(self.printChar * self.width)\n",
    "    \n",
    "class Triangle(Shape):\n",
    "    def printRow(self, i):\n",
    "        if self.shape_type == 'rightangle':\n",
    "            self.rightangle(i)\n",
    "        if self.shape_type == 'equilateral':\n",
    "            self.equilateral(i)\n",
    "            \n",
    "    def rightangle(self, i):\n",
    "        print(self.printChar * i)\n",
    "    \n",
    "    def equilateral(self, i):\n",
    "        empty_space = int((self.width - i)/2) * ' '\n",
    "        print(f'{empty_space}{self.printChar * i}{empty_space}')\n"
   ]
  },
  {
   "cell_type": "code",
   "execution_count": 191,
   "id": "9c9942d4-6ac9-48e6-ac9c-b440b7f4f14b",
   "metadata": {},
   "outputs": [
    {
     "name": "stdout",
     "output_type": "stream",
     "text": [
      "          \n",
      "     #     \n",
      "    ##    \n",
      "    ###    \n",
      "   ####   \n",
      "   #####   \n",
      "  ######  \n",
      "  #######  \n",
      " ######## \n",
      " ######### \n",
      "##########\n"
     ]
    }
   ],
   "source": [
    "s = Triangle(10,10,'equilateral')\n",
    "s.print()"
   ]
  },
  {
   "cell_type": "markdown",
   "id": "a8764df7-5f9f-4519-b2df-c20a3a17b8ff",
   "metadata": {
    "jp-MarkdownHeadingCollapsed": true
   },
   "source": [
    "# Exercise 7\n",
    "Create a custom exception that raises when a non-int is passed to a function"
   ]
  },
  {
   "cell_type": "code",
   "execution_count": 247,
   "id": "d4fb6bf9-3fe3-427d-a750-a15baaffe737",
   "metadata": {},
   "outputs": [],
   "source": [
    "class NonIntArgumentException(Exception):\n",
    "    pass\n",
    "    \n",
    "def handleNonIntArguments(func):\n",
    "    def wrapper(*args):\n",
    "        for arg in args:\n",
    "            if type(arg) is not int:\n",
    "                raise NonIntArgumentException(\"Argument is not an integer!\")\n",
    "        return func(*args)\n",
    "        \n",
    "    return wrapper"
   ]
  },
  {
   "cell_type": "code",
   "execution_count": 248,
   "id": "488583ef-4b7b-4119-a5bb-b2a44ef895ad",
   "metadata": {},
   "outputs": [],
   "source": [
    "@handleNonIntArguments\n",
    "def sum(a, b, c):\n",
    "    return (a + b + c)"
   ]
  },
  {
   "cell_type": "code",
   "execution_count": 249,
   "id": "05b73f9d-7dff-4d88-b90e-8276bda0035b",
   "metadata": {},
   "outputs": [
    {
     "name": "stdout",
     "output_type": "stream",
     "text": [
      "Argument is not an integer!\n"
     ]
    }
   ],
   "source": [
    "try:\n",
    "    print(sum(1, 2, '3')) \n",
    "except NonIntArgumentException as e:\n",
    "    print(e)"
   ]
  },
  {
   "cell_type": "markdown",
   "id": "e2d0acbf-4a6b-4552-9864-097e70caec4d",
   "metadata": {},
   "source": [
    "# Exercise 8"
   ]
  },
  {
   "cell_type": "code",
   "execution_count": 279,
   "id": "93cb0869-634b-4210-b561-9c2cf62e0dce",
   "metadata": {},
   "outputs": [],
   "source": [
    "import json\n",
    "\n",
    "def encodeString(string):\n",
    "    encoded_str = []\n",
    "    prev_char = string[0]\n",
    "    count = 0\n",
    "    for char in string:\n",
    "        if char != prev_char:\n",
    "            encoded_str += [(prev_char,count)]\n",
    "            count = 0\n",
    "        count += 1\n",
    "        prev_char = char\n",
    "    encoded_str += [(prev_char,count)]\n",
    "    return encoded_str\n",
    "\n",
    "def decodeString(encodedList):\n",
    "    full_string = ''\n",
    "    for each_tuple in encodedList:\n",
    "        full_string += each_tuple[0] * each_tuple[1]\n",
    "    return full_string\n",
    "\n"
   ]
  },
  {
   "cell_type": "code",
   "execution_count": 288,
   "id": "8401a7fc-fe0e-420a-98ac-3dd3d0bd0a13",
   "metadata": {},
   "outputs": [],
   "source": [
    "def encodeFile(filename, newFilename):\n",
    "    #Getting Data\n",
    "    f = open(filename, 'r')\n",
    "    string = ''\n",
    "    for line in f.readlines():\n",
    "        string += line\n",
    "\n",
    "    #Encode data\n",
    "    encodedJson = json.dumps(encodeString(string))\n",
    "\n",
    "    #Write encoded json string\n",
    "    with open(newFilename, 'w') as new_f:\n",
    "        new_f.write(encodedJson)\n",
    "               \n",
    "\n",
    "def decodeFile(filename):\n",
    "    f = open(filename, 'r')\n",
    "    encodedList = json.loads(f.readline())\n",
    "    \n",
    "    return decodeString(encodedList)"
   ]
  },
  {
   "cell_type": "code",
   "execution_count": null,
   "id": "1ba70d0e-82b9-43d4-93bc-9189311418df",
   "metadata": {},
   "outputs": [],
   "source": [
    "with open('try_file','w') as f:\n",
    "    f.write('Ahhhhh que es estooo!\\n')\n",
    "    f.write('Segunda w2222')"
   ]
  },
  {
   "cell_type": "code",
   "execution_count": 289,
   "id": "db3f7264-c6ab-4a3b-b568-af85ada8c09c",
   "metadata": {},
   "outputs": [],
   "source": [
    "encodeFile('try_file', 'try_file_encoded')"
   ]
  },
  {
   "cell_type": "code",
   "execution_count": 290,
   "id": "7f9b98c7-47b0-4dac-9da0-a227cfed0939",
   "metadata": {},
   "outputs": [
    {
     "data": {
      "text/plain": [
       "['[[\"A\", 1], [\"h\", 5], [\" \", 1], [\"q\", 1], [\"u\", 1], [\"e\", 1], [\" \", 1], [\"e\", 1], [\"s\", 1], [\" \", 1], [\"e\", 1], [\"s\", 1], [\"t\", 1], [\"o\", 3], [\"!\", 1], [\"\\\\n\", 1], [\"S\", 1], [\"e\", 1], [\"g\", 1], [\"u\", 1], [\"n\", 1], [\"d\", 1], [\"a\", 1], [\" \", 1], [\"w\", 1], [\"2\", 4]]']"
      ]
     },
     "execution_count": 290,
     "metadata": {},
     "output_type": "execute_result"
    }
   ],
   "source": [
    "f= open('try_file_encoded', 'r')\n",
    "f.readlines()"
   ]
  },
  {
   "cell_type": "code",
   "execution_count": 291,
   "id": "4a461179-4775-40f2-b90b-bd4f4588801d",
   "metadata": {},
   "outputs": [
    {
     "data": {
      "text/plain": [
       "'Ahhhhh que es estooo!\\nSegunda w2222'"
      ]
     },
     "execution_count": 291,
     "metadata": {},
     "output_type": "execute_result"
    }
   ],
   "source": [
    "decodeFile('try_file_encoded')"
   ]
  },
  {
   "cell_type": "markdown",
   "id": "bf60514c-c521-4614-b915-0970e696739c",
   "metadata": {},
   "source": [
    "# Practice"
   ]
  },
  {
   "cell_type": "code",
   "execution_count": 180,
   "id": "6c03d822-590a-44fc-94ea-05626e16efe8",
   "metadata": {},
   "outputs": [],
   "source": [
    "my_dic= {'a': ['ant','ape'],\n",
    "        'b': ['bat','bison'],\n",
    "        'c': ['cock'],\n",
    "        }"
   ]
  },
  {
   "cell_type": "code",
   "execution_count": 195,
   "id": "609aba39-b71f-4636-97d3-67962ebe21e3",
   "metadata": {},
   "outputs": [
    {
     "name": "stdout",
     "output_type": "stream",
     "text": [
      "['ant', 'ape']\n",
      "['bat', 'bison']\n",
      "['cock']\n"
     ]
    }
   ],
   "source": [
    "for key,value in my_dic.items():\n",
    "    print(value)"
   ]
  },
  {
   "cell_type": "code",
   "execution_count": 206,
   "id": "88155071-af6d-4501-a54c-6c71ddc00d6e",
   "metadata": {},
   "outputs": [
    {
     "data": {
      "text/plain": [
       "[[{'letter': 'a', 'animal': 'ANT'}, {'letter': 'a', 'animal': 'APE'}],\n",
       " [{'letter': 'b', 'animal': 'BAT'}, {'letter': 'b', 'animal': 'BISON'}],\n",
       " [{'letter': 'c', 'animal': 'COCK'}]]"
      ]
     },
     "execution_count": 206,
     "metadata": {},
     "output_type": "execute_result"
    }
   ],
   "source": [
    "[[{'letter':letter, 'animal':each_animal.upper()} for each_animal in animals] for letter,animals in my_dic.items()]"
   ]
  },
  {
   "cell_type": "code",
   "execution_count": 2,
   "id": "7c36c146-081c-4e21-8a67-9f3350be3196",
   "metadata": {},
   "outputs": [],
   "source": [
    "from datetime import datetime"
   ]
  },
  {
   "cell_type": "code",
   "execution_count": 9,
   "id": "b32252d2-5bac-440c-9648-755d516fe88a",
   "metadata": {},
   "outputs": [],
   "source": [
    "wait_time = (datetime.now().second+2)% 60\n",
    "interval = (datetime.now().second+1)% 60\n",
    "\n",
    "while wait_time > datetime.now().second:\n"
   ]
  },
  {
   "cell_type": "code",
   "execution_count": 138,
   "id": "8d9aed82-fd61-4de3-baa0-809b9a50958e",
   "metadata": {},
   "outputs": [
    {
     "data": {
      "text/plain": [
       "5"
      ]
     },
     "execution_count": 138,
     "metadata": {},
     "output_type": "execute_result"
    }
   ],
   "source": [
    "def performOperation(num1, num2, operation):\n",
    "    if operation == 'sum':\n",
    "        return num1 + num2\n",
    "    if operation == 'multiply':\n",
    "        return num1 * num2\n",
    "\n",
    "performOperation(1,4,operation='sum')"
   ]
  },
  {
   "cell_type": "code",
   "execution_count": 140,
   "id": "96965ad0-073f-418d-a420-4f1f5f37b9f8",
   "metadata": {},
   "outputs": [
    {
     "name": "stdout",
     "output_type": "stream",
     "text": [
      "(1, 2, 3)\n",
      "{'operation': 'hihi', 'x': 'y'}\n"
     ]
    }
   ],
   "source": [
    "def any_variable(*args, **kwargs):\n",
    "    print(args)\n",
    "    print(kwargs)\n",
    "any_variable(1,2,3, operation = 'hihi', x='y')"
   ]
  },
  {
   "cell_type": "code",
   "execution_count": 143,
   "id": "fd8b0992-ce62-4008-b5e9-d68dd8f97a71",
   "metadata": {},
   "outputs": [
    {
     "name": "stdout",
     "output_type": "stream",
     "text": [
      "3\n",
      "{'a': 4}\n"
     ]
    }
   ],
   "source": [
    "a = 3\n",
    "def variables(a):\n",
    "    print(locals())\n",
    "print(a)\n",
    "variables(4)"
   ]
  },
  {
   "cell_type": "code",
   "execution_count": 151,
   "id": "d2ef4fc2-1b77-4cf6-8d69-9eacfd25e4bb",
   "metadata": {},
   "outputs": [
    {
     "data": {
      "text/plain": [
       "(<function __main__.<lambda>(x)>, 5)"
      ]
     },
     "execution_count": 151,
     "metadata": {},
     "output_type": "execute_result"
    }
   ],
   "source": [
    "(lambda x: x + 1)(5)"
   ]
  },
  {
   "cell_type": "code",
   "execution_count": 2,
   "id": "e2c161e3-67db-47b5-8ee1-af7a225457d9",
   "metadata": {},
   "outputs": [],
   "source": [
    "class Dog:\n",
    "    def __init__(self, name):\n",
    "        self.name = name\n",
    "        self.legs = 4"
   ]
  },
  {
   "cell_type": "code",
   "execution_count": 17,
   "id": "7248fe28-8804-4e09-ac7c-b139a52e0a8e",
   "metadata": {},
   "outputs": [
    {
     "name": "stdout",
     "output_type": "stream",
     "text": [
      "Yrina\n",
      "4\n",
      "3\n"
     ]
    }
   ],
   "source": [
    "my_dog = Dog('Yrina')\n",
    "\n",
    "print(my_dog.name)\n",
    "print(my_dog.legs)\n",
    "my_dog.legs = 3\n",
    "print(my_dog.legs)"
   ]
  },
  {
   "cell_type": "code",
   "execution_count": 22,
   "id": "54521aa9-5a4a-4ac8-8998-cc99a506b5b5",
   "metadata": {},
   "outputs": [],
   "source": [
    "class Dog:\n",
    "    _legs = 4\n",
    "    def __init__(self, name):\n",
    "        self.name = name"
   ]
  },
  {
   "cell_type": "code",
   "execution_count": 21,
   "id": "8107ad69-b6a1-4b9e-97e3-c0b0c844e96c",
   "metadata": {},
   "outputs": [
    {
     "name": "stdout",
     "output_type": "stream",
     "text": [
      "Yrina\n",
      "4\n",
      "3\n",
      "4\n"
     ]
    }
   ],
   "source": [
    "my_dog = Dog('Yrina')\n",
    "\n",
    "print(my_dog.name)\n",
    "print(my_dog._legs)\n",
    "my_dog._legs = 3\n",
    "print(my_dog._legs)\n",
    "print(Dog._legs)"
   ]
  },
  {
   "cell_type": "code",
   "execution_count": 36,
   "id": "82f689bf-88f7-44be-b464-1cbb09e33e37",
   "metadata": {},
   "outputs": [],
   "source": [
    "class WordSet:\n",
    "    def __init__(self):\n",
    "        self.words = set()\n",
    "\n",
    "    def addText(self,text):\n",
    "        clean_text = self.cleanText(text)\n",
    "        for word in clean_text.split():\n",
    "            self.words.add(word)\n",
    "\n",
    "    def cleanText(self,text):\n",
    "        functionsToClean = text.replace('.', '').replace(',', '').lower()\n",
    "        return functionsToClean"
   ]
  },
  {
   "cell_type": "code",
   "execution_count": 37,
   "id": "708bf70e-6179-4ffb-9f29-270ce111ccf5",
   "metadata": {},
   "outputs": [],
   "source": [
    "some_text = 'Hola me llamo Yrina, tengo 22 años. Tu tienes 12.'\n",
    "word_library = WordSet()\n",
    "word_library.addText(some_text)\n"
   ]
  },
  {
   "cell_type": "code",
   "execution_count": 38,
   "id": "48e97093-2fcf-49a2-86f5-827d4d1ce6ab",
   "metadata": {},
   "outputs": [
    {
     "name": "stdout",
     "output_type": "stream",
     "text": [
      "{'12', 'me', 'tengo', 'llamo', 'tienes', 'yrina', '22', 'tu', 'hola', 'años'}\n"
     ]
    }
   ],
   "source": [
    "print(word_library.words)"
   ]
  },
  {
   "cell_type": "code",
   "execution_count": 47,
   "id": "5a314d20-c57d-4560-8c5c-889a17a2b57e",
   "metadata": {},
   "outputs": [],
   "source": [
    "class WordSet:\n",
    "    def __init__(self):\n",
    "        self.words = set()\n",
    "\n",
    "    def addText(self,text):\n",
    "        clean_text = self.cleanText(text)\n",
    "        for word in clean_text.split():\n",
    "            self.words.add(word)\n",
    "\n",
    "    @staticmethod\n",
    "    def cleanText(text):\n",
    "        functionsToClean = text.replace('.', '').replace(',', '').lower()\n",
    "        return functionsToClean"
   ]
  },
  {
   "cell_type": "code",
   "execution_count": 48,
   "id": "02f33f08-5241-4977-8805-c5b13eb756d5",
   "metadata": {},
   "outputs": [],
   "source": [
    "some_text = 'Hola me llamo Yrina, tengo 22 años. Tu tienes 12.'\n",
    "word_library = WordSet()\n",
    "word_library.addText(some_text)"
   ]
  },
  {
   "cell_type": "code",
   "execution_count": 49,
   "id": "f7f559f3-5c65-4955-a17f-1efe6a4dbf9c",
   "metadata": {},
   "outputs": [
    {
     "name": "stdout",
     "output_type": "stream",
     "text": [
      "{'12', 'me', 'tengo', 'llamo', 'tienes', 'yrina', '22', 'tu', 'hola', 'años'}\n"
     ]
    }
   ],
   "source": [
    "print(word_library.words)"
   ]
  },
  {
   "cell_type": "code",
   "execution_count": 54,
   "id": "1c99d9a7-72a1-4eb5-ae82-ba520875d504",
   "metadata": {},
   "outputs": [
    {
     "name": "stdout",
     "output_type": "stream",
     "text": [
      "Unique List!\n"
     ]
    }
   ],
   "source": [
    "class UniqueList(list):\n",
    "    \n",
    "    def __init__(self):\n",
    "        super().__init__()\n",
    "        self.someProperty = 'Unique List!'\n",
    "        \n",
    "\n",
    "    def append(self, item):\n",
    "        if item in self:\n",
    "            return\n",
    "        super().append(item)\n",
    "        \n",
    "uniqueList = UniqueList()\n",
    "\n",
    "print(uniqueList.someProperty)"
   ]
  },
  {
   "cell_type": "code",
   "execution_count": 208,
   "id": "0c2f1b1c-1a19-4312-82ea-cf0943a312b5",
   "metadata": {},
   "outputs": [
    {
     "name": "stdout",
     "output_type": "stream",
     "text": [
      "1\n"
     ]
    }
   ],
   "source": [
    "def handleException(func):\n",
    "    def wrapper(*args):\n",
    "        try:\n",
    "            func(*args)\n",
    "        except TypeError:\n",
    "            print('There was a type error!')\n",
    "        except ZeroDivisionError:\n",
    "            print('There was a zero division error!')\n",
    "        except Exception:\n",
    "            print('There was some sort of error!')\n",
    "    return wrapper\n",
    "\n",
    "@handleException\n",
    "def raiseError(n):\n",
    "    if n == 0:\n",
    "        raise Exception()\n",
    "    print(n)\n",
    "    \n",
    "raiseError(1)"
   ]
  },
  {
   "cell_type": "code",
   "execution_count": null,
   "id": "fefc5e2f-a99f-4ccc-8c1b-d2b733dfc2fe",
   "metadata": {},
   "outputs": [],
   "source": []
  }
 ],
 "metadata": {
  "kernelspec": {
   "display_name": "Python 3 (ipykernel)",
   "language": "python",
   "name": "python3"
  },
  "language_info": {
   "codemirror_mode": {
    "name": "ipython",
    "version": 3
   },
   "file_extension": ".py",
   "mimetype": "text/x-python",
   "name": "python",
   "nbconvert_exporter": "python",
   "pygments_lexer": "ipython3",
   "version": "3.8.18"
  }
 },
 "nbformat": 4,
 "nbformat_minor": 5
}
