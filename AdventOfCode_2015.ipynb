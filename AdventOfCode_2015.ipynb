{
 "cells": [
  {
   "cell_type": "markdown",
   "id": "4c41704a-465f-4f8f-9c31-1851cd126485",
   "metadata": {},
   "source": [
    "# Introduction\n",
    "This python notebook contains the solutions to the exercices found in the following: https://adventofcode.com/2015"
   ]
  },
  {
   "cell_type": "markdown",
   "id": "836419ad-6894-4c26-be3c-ad67514167be",
   "metadata": {
    "jp-MarkdownHeadingCollapsed": true
   },
   "source": [
    "# --- Day 1: Not Quite Lisp ---\n",
    "Santa is trying to deliver presents in a large apartment building, but he can't find the right floor - the directions he got are a little confusing. He starts on the ground floor (floor 0) and then follows the instructions one character at a time.\n",
    "\n",
    "An opening parenthesis, (, means he should go up one floor, and a closing parenthesis, ), means he should go down one floor.\n",
    "\n",
    "The apartment building is very tall, and the basement is very deep; he will never find the top or bottom floors.\n",
    "\n",
    "For example:\n",
    "\n",
    "- (()) and ()() both result in floor 0.\n",
    "- ((( and (()(()( both result in floor 3.\n",
    "- ))((((( also results in floor 3.\n",
    "- ()) and ))( both result in floor -1 (the first basement level).\n",
    "- ))) and )())()) both result in floor -3.\n",
    "\n",
    "To what floor do the instructions take Santa?"
   ]
  },
  {
   "cell_type": "code",
   "execution_count": 7,
   "id": "7a1578f7-d342-459a-96c5-1fd165e98222",
   "metadata": {},
   "outputs": [],
   "source": [
    "test = ')())())'"
   ]
  },
  {
   "cell_type": "code",
   "execution_count": 3,
   "id": "47b2d0fc-080e-42c1-90e7-64c56860e31b",
   "metadata": {},
   "outputs": [],
   "source": [
    "def translateDirections(confusing_str):\n",
    "    position = 0\n",
    "    for char in confusing_str:\n",
    "        if char == '(':\n",
    "            position += 1\n",
    "        if char == ')':\n",
    "            position -= 1\n",
    "    \n",
    "    return position"
   ]
  },
  {
   "cell_type": "code",
   "execution_count": 18,
   "id": "88255bc2-795b-4bdf-802a-e2156fd9e3ad",
   "metadata": {},
   "outputs": [
    {
     "name": "stdout",
     "output_type": "stream",
     "text": [
      "Test should be equal to -3, and it is -3\n",
      "Santa needs to got to floor number 232\n"
     ]
    }
   ],
   "source": [
    "print(f'Test should be equal to -3, and it is {translateDirections(test)}')\n",
    "confusing_direc = open('Day1_ConfusingDirections.txt','r')\n",
    "confusing_str = confusing_direc.readlines()[0]\n",
    "print(f'Santa needs to got to floor number {translateDirections(confusing_str)}')"
   ]
  },
  {
   "cell_type": "markdown",
   "id": "93f12f99-9e55-4725-8fd8-1dd46ab810b2",
   "metadata": {},
   "source": [
    "## --- Part Two ---\n",
    "\n",
    "Now, given the same instructions, find the position of the first character that causes him to enter the basement (floor -1). The first character in the instructions has position 1, the second character has position 2, and so on.\n",
    "\n",
    "For example:\n",
    "- ) causes him to enter the basement at character position 1.\n",
    "- ()()) causes him to enter the basement at character position 5.\n",
    "\n",
    "What is the position of the character that causes Santa to first enter the basement?"
   ]
  },
  {
   "cell_type": "code",
   "execution_count": 21,
   "id": "9b75a52a-0f8e-455f-8a3b-1dbf44559cc4",
   "metadata": {},
   "outputs": [],
   "source": [
    "def whenInBasement(confusing_str):\n",
    "    position = 0\n",
    "    when = 0\n",
    "    for char in confusing_str:\n",
    "        if char == '(':\n",
    "            position += 1\n",
    "        if char == ')':\n",
    "            position -= 1\n",
    "        when += 1\n",
    "        if position < 0:\n",
    "            break\n",
    "        \n",
    "    return when"
   ]
  },
  {
   "cell_type": "code",
   "execution_count": 24,
   "id": "e3d459d7-069e-425b-8760-0cf613d200b6",
   "metadata": {},
   "outputs": [
    {
     "name": "stdout",
     "output_type": "stream",
     "text": [
      "Santa entered the basement at position 1783\n"
     ]
    }
   ],
   "source": [
    "print(f'Santa entered the basement at position {whenInBasement(confusing_str)}')"
   ]
  },
  {
   "cell_type": "markdown",
   "id": "4bd2bf55-ad72-470b-91df-452f86fd1436",
   "metadata": {
    "jp-MarkdownHeadingCollapsed": true
   },
   "source": [
    "# --- Day 2: I Was Told There Would Be No Math ---\n",
    "\n",
    "The elves are running low on wrapping paper, and so they need to submit an order for more. They have a list of the dimensions (length l, width w, and height h) of each present, and only want to order exactly as much as they need.\n",
    "\n",
    "Fortunately, every present is a box (a perfect right rectangular prism), which makes calculating the required wrapping paper for each gift a little easier: find the surface area of the box, which is 2*l*w + 2*w*h + 2*h*l. The elves also need a little extra paper for each present: the area of the smallest side.\n",
    "\n",
    "For example:\n",
    "- A present with dimensions 2x3x4 requires 2x6 + 2x12 + 2x8 = 52 square feet of wrapping paper plus 6 square feet of slack, for a total of 58 square feet.\n",
    "- A present with dimensions 1x1x10 requires 2x1 + 2x10 + 2x10 = 42 square feet of wrapping paper plus 1 square foot of slack, for a total of 43 square feet.\n",
    "All numbers in the elves' list are in feet. How many total square feet of wrapping paper should they order?"
   ]
  },
  {
   "cell_type": "code",
   "execution_count": 111,
   "id": "16eaa2df-1b8c-4abc-a336-d6b3168f7547",
   "metadata": {},
   "outputs": [],
   "source": [
    "def wrappingPaper(l, w, h):\n",
    "    present_area = 2 * (l*w + w*h + h*l) + min(l*w, w*h, h*l)\n",
    "    return present_area\n",
    "\n",
    "def howMuchPaper(present_list):\n",
    "    total_paper = 0\n",
    "    for present in present_list:\n",
    "        present_dimensions = tuple([int(dimension) for dimension in present.split('x')])\n",
    "        total_paper += wrappingPaper(*present_dimensions) \n",
    "    return total_paper"
   ]
  },
  {
   "cell_type": "code",
   "execution_count": 112,
   "id": "e9ee5502-357e-4a9a-9df9-5cda1ac16ec8",
   "metadata": {},
   "outputs": [
    {
     "data": {
      "text/plain": [
       "1606483"
      ]
     },
     "execution_count": 112,
     "metadata": {},
     "output_type": "execute_result"
    }
   ],
   "source": [
    "present_list = open('Day2_PresentDimensions.txt', 'r')\n",
    "present_list = present_list.readlines()\n",
    "howMuchPaper(present_list)"
   ]
  },
  {
   "cell_type": "markdown",
   "id": "40654dd7-29c1-4b7f-a143-040a6a180405",
   "metadata": {},
   "source": [
    "## --- Part Two ---\n",
    "\n",
    "The elves are also running low on ribbon. Ribbon is all the same width, so they only have to worry about the length they need to order, which they would again like to be exact.\n",
    "\n",
    "The ribbon required to wrap a present is the shortest distance around its sides, or the smallest perimeter of any one face. Each present also requires a bow made out of ribbon as well; the feet of ribbon required for the perfect bow is equal to the cubic feet of volume of the present. Don't ask how they tie the bow, though; they'll never tell.\n",
    "\n",
    "For example:\n",
    "- A present with dimensions 2x3x4 requires 2+2+3+3 = 10 feet of ribbon to wrap the present plus 2x3x4 = 24 feet of ribbon for the bow, for a total of 34 feet.\n",
    "- A present with dimensions 1x1x10 requires 1+1+1+1 = 4 feet of ribbon to wrap the present plus 1x1x10 = 10 feet of ribbon for the bow, for a total of 14 feet.\n",
    "\n",
    "How many total feet of ribbon should they order?"
   ]
  },
  {
   "cell_type": "code",
   "execution_count": 148,
   "id": "a65a68b1-3a9f-408b-9d6c-6938fcf9849b",
   "metadata": {},
   "outputs": [],
   "source": [
    "def ribbonLength(l,w,h):\n",
    "    ribbon_around = min (2*(l+w),2*(w+h),2*(l+h))\n",
    "    ribbon_bow = l*w*h\n",
    "    return ribbon_around + ribbon_bow\n",
    "\n",
    "def howMuchRibbon(present_list):\n",
    "    total_ribbon = 0\n",
    "    for present in present_list:\n",
    "        present_dimensions = tuple([int(dimension) for dimension in present.split('x')])\n",
    "        total_ribbon += ribbonLength(*present_dimensions) \n",
    "    return total_ribbon    "
   ]
  },
  {
   "cell_type": "code",
   "execution_count": 149,
   "id": "bbc43b64-ac3a-4e89-bb06-dfdc768dcd61",
   "metadata": {},
   "outputs": [
    {
     "data": {
      "text/plain": [
       "3842356"
      ]
     },
     "execution_count": 149,
     "metadata": {},
     "output_type": "execute_result"
    }
   ],
   "source": [
    "present_list = open('Day2_PresentDimensions.txt', 'r')\n",
    "present_list = present_list.readlines()\n",
    "howMuchRibbon(present_list)"
   ]
  },
  {
   "cell_type": "markdown",
   "id": "10bdf5c9-f094-4197-a04d-7bb900b8eeb7",
   "metadata": {
    "jp-MarkdownHeadingCollapsed": true
   },
   "source": [
    "# --- Day 3: Perfectly Spherical Houses in a Vacuum ---\n",
    "\n",
    "Santa is delivering presents to an infinite two-dimensional grid of houses.\n",
    "\n",
    "He begins by delivering a present to the house at his starting location, and then an elf at the North Pole calls him via radio and tells him where to move next. Moves are always exactly one house to the north (^), south (v), east (>), or west (<). After each move, he delivers another present to the house at his new location.\n",
    "\n",
    "However, the elf back at the north pole has had a little too much eggnog, and so his directions are a little off, and Santa ends up visiting some houses more than once. How many houses receive at least one present?\n",
    "\n",
    "For example:\n",
    "\n",
    "- '> delivers presents to 2 houses: one at the starting location, and one to the east.'\n",
    "- ^>v< delivers presents to 4 houses in a square, including twice to the house at his starting/ending location.\n",
    "- ^v^v^v^v^v delivers a bunch of presents to some very lucky children at only 2 houses."
   ]
  },
  {
   "cell_type": "code",
   "execution_count": 206,
   "id": "1049f1d1-76c9-4370-980a-a4de190003cc",
   "metadata": {},
   "outputs": [],
   "source": [
    "def uniqueHouses(route):\n",
    "    direc = {'<' : -1,'>' : 1, '^' : 1, 'v' : -1}\n",
    "    start = [0,0]\n",
    "    house_log = [(0,0)]\n",
    "\n",
    "    # Follow each_step and record all house coordinates\n",
    "    for each_step in route:\n",
    "        if each_step in '<>': # Horizontal move\n",
    "            start[0] += direc[each_step]\n",
    "        if each_step in '^v': # Vertical move\n",
    "            start[1] += direc[each_step]\n",
    "        # Log current house position\n",
    "        house_log += [tuple(start)]\n",
    "    \n",
    "    # Use a set to filter unique house positions and get the count\n",
    "    unique_houses = len(set(house_log))\n",
    "    \n",
    "    return unique_houses"
   ]
  },
  {
   "cell_type": "code",
   "execution_count": 205,
   "id": "047e1232-969b-4efc-948d-e212b97065a4",
   "metadata": {},
   "outputs": [
    {
     "name": "stdout",
     "output_type": "stream",
     "text": [
      "Santa delivered to 2081 unique houses\n"
     ]
    }
   ],
   "source": [
    "f = open('Day3_SantaRoute', 'r')\n",
    "route = f.readlines()[0]\n",
    "print(f'Santa delivered to {uniqueHouses(route)} unique houses')"
   ]
  },
  {
   "cell_type": "markdown",
   "id": "80445471-5344-48c7-b80e-ae822de5004c",
   "metadata": {},
   "source": [
    "## --- Part Two ---\n",
    "\n",
    "The next year, to speed up the process, Santa creates a robot version of himself, Robo-Santa, to deliver presents with him.\n",
    "\n",
    "Santa and Robo-Santa start at the same location (delivering two presents to the same starting house), then take turns moving based on instructions from the elf, who is eggnoggedly reading from the same script as the previous year.\n",
    "\n",
    "This year, how many houses receive at least one present?\n",
    "\n",
    "For example:\n",
    "\n",
    "- ^v delivers presents to 3 houses, because Santa goes north, and then Robo-Santa goes south.\n",
    "- ^>v< now delivers presents to 3 houses, and Santa and Robo-Santa end up back where they started.\n",
    "- ^v^v^v^v^v now delivers presents to 11 houses, with Santa going one direction and Robo-Santa going the other."
   ]
  },
  {
   "cell_type": "code",
   "execution_count": 215,
   "id": "f34f4528-36ab-4305-b926-2195b5100612",
   "metadata": {},
   "outputs": [],
   "source": [
    "def uniqueHouses_SnR(route):\n",
    "    direc = {'<' : -1,'>' : 1, '^' : 1, 'v' : -1}\n",
    "\n",
    "    # Santa and Robo-Santa starting position\n",
    "    start_santa = [0,0]\n",
    "    start_robo = [0,0]\n",
    "\n",
    "    # House position log\n",
    "    house_log = [(0,0)]\n",
    "\n",
    "    #Follow each_step and record all house coordinates\n",
    "    santa_turn = True\n",
    "    \n",
    "    for each_step in route:\n",
    "        #Santa turn to move\n",
    "        if santa_turn:\n",
    "            if each_step in '<>':\n",
    "                start_santa[0] += direc[each_step]\n",
    "            if each_step in '^v':\n",
    "                start_santa[1] += direc[each_step]\n",
    "                \n",
    "            house_log += [tuple(start_santa)]\n",
    "            santa_turn = False\n",
    "\n",
    "        # Robo turn to move\n",
    "        else:\n",
    "            if each_step in '<>':\n",
    "                start_robo[0] += direc[each_step]\n",
    "            if each_step in '^v':\n",
    "                start_robo[1] += direc[each_step]\n",
    "            \n",
    "            house_log += [tuple(start_robo)]\n",
    "            santa_turn = True\n",
    "\n",
    "    # Use a set to filter unique house positions and get the count\n",
    "    unique_houses = len(set(house_log))\n",
    "    \n",
    "    return unique_houses"
   ]
  },
  {
   "cell_type": "code",
   "execution_count": 219,
   "id": "84b8f1db-9ea8-4091-85d1-5ecc9a7f0ec4",
   "metadata": {},
   "outputs": [
    {
     "name": "stdout",
     "output_type": "stream",
     "text": [
      "Santa and Robo-Santa delivered to 2341 unique houses\n"
     ]
    }
   ],
   "source": [
    "print(f'Santa and Robo-Santa delivered to {uniqueHouses_SnR(route)} unique houses')"
   ]
  },
  {
   "cell_type": "markdown",
   "id": "842720a8-e9fa-44bc-98f3-86dd959cfa30",
   "metadata": {
    "jp-MarkdownHeadingCollapsed": true
   },
   "source": [
    "# --- Day 4: The Ideal Stocking Stuffer ---\n",
    "\n",
    "Santa needs help mining some AdventCoins (very similar to bitcoins) to use as gifts for all the economically forward-thinking little girls and boys.\n",
    "\n",
    "To do this, he needs to find MD5 hashes which, in hexadecimal, start with at least five zeroes. The input to the MD5 hash is some secret key (your puzzle input, given below) followed by a number in decimal. To mine AdventCoins, you must find Santa the lowest positive number (no leading zeroes: 1, 2, 3, ...) that produces such a hash.\n",
    "\n",
    "For example:\n",
    "- If your secret key is abcdef, the answer is 609043, because the MD5 hash of abcdef609043 starts with five zeroes (000001dbbfa...), and it is the lowest such number to do so.\n",
    "- If your secret key is pqrstuv, the lowest number it combines with to make an MD5 hash starting with five zeroes is 1048970; that is, the MD5 hash of pqrstuv1048970 looks like 000006136ef....\n"
   ]
  },
  {
   "cell_type": "code",
   "execution_count": 42,
   "id": "5f67e374-41fa-410a-88d4-1b5c7d602ebb",
   "metadata": {},
   "outputs": [],
   "source": [
    "import hashlib\n",
    "\n",
    "def lowestNum(secret_key):\n",
    "    n = 0\n",
    "\n",
    "    #Loop will run until the hexadecimal hashed str starts with 00000\n",
    "    while True:  \n",
    "        #Generate hash\n",
    "        hashed = hashlib.md5(f'{secret_key}{n}'.encode())\n",
    "\n",
    "        #Check if 00000 is in the hexadecimal form\n",
    "        if hashed.hexdigest().startswith('00000'):\n",
    "            return n\n",
    "        \n",
    "        n +=1"
   ]
  },
  {
   "cell_type": "code",
   "execution_count": 45,
   "id": "b0da9d47-64f2-497d-8c46-71a509f47792",
   "metadata": {},
   "outputs": [
    {
     "data": {
      "text/plain": [
       "254575"
      ]
     },
     "execution_count": 45,
     "metadata": {},
     "output_type": "execute_result"
    }
   ],
   "source": [
    "lowestNum('bgvyzdsv')"
   ]
  },
  {
   "cell_type": "markdown",
   "id": "3a6e30b6-0b14-4fa9-9f1f-5250f299f982",
   "metadata": {},
   "source": [
    "## --- Part Two ---\n",
    "\n",
    "Now find one that starts with six zeroes."
   ]
  },
  {
   "cell_type": "code",
   "execution_count": 46,
   "id": "8dc3e70a-9d52-4101-b4a5-9639633db52e",
   "metadata": {},
   "outputs": [
    {
     "data": {
      "text/plain": [
       "1038736"
      ]
     },
     "execution_count": 46,
     "metadata": {},
     "output_type": "execute_result"
    }
   ],
   "source": [
    "def lowestNum(secret_key):\n",
    "    n = 0\n",
    "\n",
    "    #Loop will run until the hexadecimal hashed str starts with 00000\n",
    "    while True:  \n",
    "        #Generate hash\n",
    "        hashed = hashlib.md5(f'{secret_key}{n}'.encode())\n",
    "\n",
    "        #Check if 00000 is in the hexadecimal form\n",
    "        if hashed.hexdigest().startswith('000000'):\n",
    "            return n\n",
    "        \n",
    "        n +=1\n",
    "\n",
    "lowestNum('bgvyzdsv')"
   ]
  },
  {
   "cell_type": "markdown",
   "id": "f12271b3-3661-46fa-b231-042bc5571129",
   "metadata": {},
   "source": [
    "# --- Day 5: Doesn't He Have Intern-Elves For This? ---\n",
    "\n",
    "Santa needs help figuring out which strings in his text file are naughty or nice.\n",
    "\n",
    "A nice string is one with all of the following properties:\n",
    "\n",
    "It contains at least three vowels (aeiou only), like aei, xazegov, or aeiouaeiouaeiou.\n",
    "It contains at least one letter that appears twice in a row, like xx, abcdde (dd), or aabbccdd (aa, bb, cc, or dd).\n",
    "It does not contain the strings ab, cd, pq, or xy, even if they are part of one of the other requirements.\n",
    "For example:\n",
    "- ugknbfddgicrmopn is nice because it has at least three vowels (u...i...o...), a double letter (...dd...), and none of the disallowed substrings.\n",
    "- aaa is nice because it has at least three vowels and a double letter, even though the letters used by different rules overlap.\n",
    "- jchzalrnumimnmhp is naughty because it has no double letter.\n",
    "- haegwjzuvuyypxyu is naughty because it contains the string xy.\n",
    "- dvszwmarrgswjxmb is naughty because it contains only one vowel.\n",
    "\n",
    "How many strings are nice?"
   ]
  },
  {
   "cell_type": "code",
   "execution_count": 162,
   "id": "c937045e-76f0-4cca-8f98-4b925aa9f4cc",
   "metadata": {},
   "outputs": [],
   "source": [
    "import re\n",
    "\n",
    "def isNice(string):\n",
    "\n",
    "    # Check for prohibited letter convinations\n",
    "    for p_letter in ['ab','cd', 'pq', 'xy']:\n",
    "        if p_letter in string:\n",
    "            return False\n",
    "    \n",
    "    # Check for presence of at least 3 vowels\n",
    "    all_vowes = re.findall('[a,e,i,o,u]', string)\n",
    "    if len(all_vowes) < 3:\n",
    "        return False\n",
    "\n",
    "    # Check for precense of double letter\n",
    "    prev_letter = None\n",
    "    for letter in string:\n",
    "        if letter == prev_letter:\n",
    "            return True # Passed all checks, so nice string\n",
    "        prev_letter = letter\n",
    "    \n",
    "    return False #Did not pass all checks\n",
    "    "
   ]
  },
  {
   "cell_type": "code",
   "execution_count": 216,
   "id": "4968793b-d24d-488d-9ab4-8b2c6611efae",
   "metadata": {},
   "outputs": [],
   "source": [
    "f = open('Day5_NiceNaughtyStr', 'r')\n",
    "str_list = f.readlines()"
   ]
  },
  {
   "cell_type": "code",
   "execution_count": 217,
   "id": "9b846b60-637f-481c-969a-7e13c1e97484",
   "metadata": {},
   "outputs": [
    {
     "name": "stdout",
     "output_type": "stream",
     "text": [
      "In Santas list there are 258 nice strings\n"
     ]
    }
   ],
   "source": [
    "print(f'In Santas list there are {len(list(filter(isNice, str_list)))} nice strings')"
   ]
  },
  {
   "cell_type": "markdown",
   "id": "d7ce60a1-4292-405d-b07d-8cae3f55b7c4",
   "metadata": {},
   "source": [
    "## --- Part Two ---\n",
    "\n",
    "Realizing the error of his ways, Santa has switched to a better model of determining whether a string is naughty or nice. None of the old rules apply, as they are all clearly ridiculous.\n",
    "\n",
    "Now, a nice string is one with all of the following properties:\n",
    "\n",
    "It contains a pair of any two letters that appears at least twice in the string without overlapping, like xyxy (xy) or aabcdefgaa (aa), but not like aaa (aa, but it overlaps).\n",
    "It contains at least one letter which repeats with exactly one letter between them, like xyx, abcdefeghi (efe), or even aaa.\n",
    "For example:\n",
    "- qjhvhtzxzqqjkmpb is nice because is has a pair that appears twice (qj) and a letter that repeats with exactly one letter between them (zxz).\n",
    "- xxyxx is nice because it has a pair that appears twice and a letter that repeats with one between, even though the letters used by each rule overlap.\n",
    "- uurcxstgmygtbstg is naughty because it has a pair (tg) but no repeat with a single letter between them.\n",
    "- ieodomkazucvgmuy is naughty because it has a repeating letter with one between (odo), but no pair that appears twice.\n",
    "\n",
    "How many strings are nice under these new rules?"
   ]
  },
  {
   "cell_type": "code",
   "execution_count": 211,
   "id": "17366eb5-002b-4d36-a431-5ed026df48c7",
   "metadata": {},
   "outputs": [],
   "source": [
    "def isNice_v2(string):\n",
    "    double_pair = False\n",
    "    sandwich = False\n",
    "    \n",
    "    # Check for a double of the same pair\n",
    "    if any(string[i:i+2] in string[i+2:] for i in range(len(string)-3)):\n",
    "        double_pair = True\n",
    "\n",
    "    # Check for same letter doing sandwich \n",
    "    if any(string[i] == string[i+2] for i in range(len(string)-2)):\n",
    "        sandwich = True\n",
    "\n",
    "    # If both condition true, then str is nice\n",
    "    if double_pair and sandwich:\n",
    "        return True\n",
    "    \n",
    "    return False "
   ]
  },
  {
   "cell_type": "code",
   "execution_count": 221,
   "id": "75cec4ab-a5cc-402c-a090-8a177b116046",
   "metadata": {},
   "outputs": [
    {
     "name": "stdout",
     "output_type": "stream",
     "text": [
      "Under the new rules there are 53 nice strings\n"
     ]
    }
   ],
   "source": [
    "print(f'Under the new rules there are {len(list(filter(isNice_v2, str_list)))} nice strings')"
   ]
  },
  {
   "cell_type": "markdown",
   "id": "4a7bdcf2-63da-4286-8589-361796510e04",
   "metadata": {},
   "source": [
    "# --- Day 6: Probably a Fire Hazard ---\n",
    "\n",
    "Because your neighbors keep defeating you in the holiday house decorating contest year after year, you've decided to deploy one million lights in a 1000x1000 grid.\n",
    "\n",
    "Furthermore, because you've been especially nice this year, Santa has mailed you instructions on how to display the ideal lighting configuration.\n",
    "\n",
    "Lights in your grid are numbered from 0 to 999 in each direction; the lights at each corner are at 0,0, 0,999, 999,999, and 999,0. The instructions include whether to turn on, turn off, or toggle various inclusive ranges given as coordinate pairs. Each coordinate pair represents opposite corners of a rectangle, inclusive; a coordinate pair like 0,0 through 2,2 therefore refers to 9 lights in a 3x3 square. The lights all start turned off.\n",
    "\n",
    "To defeat your neighbors this year, all you have to do is set up your lights by doing the instructions Santa sent you in order.\n",
    "\n",
    "For example:\n",
    "- turn on 0,0 through 999,999 would turn on (or leave on) every light.\n",
    "- toggle 0,0 through 999,0 would toggle the first line of 1000 lights, turning off the ones that were on, and turning on the ones that were off.\n",
    "- turn off 499,499 through 500,500 would turn off (or leave off) the middle four lights.\n",
    "\n",
    "After following the instructions, how many lights are lit?"
   ]
  },
  {
   "cell_type": "code",
   "execution_count": 513,
   "id": "0fbed06e-571b-437e-b751-bfbaaa628bae",
   "metadata": {},
   "outputs": [],
   "source": [
    "import numpy as np\n",
    "\n",
    "def lightingConfig(command, sqr_corners, grid):\n",
    "    'Updates the grid based on the command and the given area'\n",
    "    \n",
    "    top_left, bottom_right = sqr_corners\n",
    "    # Select the area of the grid to modify\n",
    "    selected_area = np.flip(grid, 0)[top_left[1]:bottom_right[1], top_left[0]:bottom_right[0]]\n",
    "    \n",
    "    if command == 'on':\n",
    "        selected_area[:] = 1\n",
    "    elif command == 'off':\n",
    "        selected_area[:] = 0\n",
    "    elif command == 'toggle':\n",
    "        selected_area[:] = 1 - selected_area\n",
    "        \n",
    "    return grid\n",
    "\n",
    "def readCommand(string):\n",
    "    'Parses a single command string into a command and its coordinate ranges'\n",
    "    \n",
    "    #Remove 'turn' from command 'turn on' and 'turn off'\n",
    "    if len(string.split()) == 5:\n",
    "        string = string.split()[1:]\n",
    "    else:\n",
    "        string= string.split()\n",
    "    \n",
    "    string.remove('through')\n",
    "\n",
    "    #Select and format parts of the string\n",
    "    command = string[0]\n",
    "    \n",
    "    point1 = tuple(int(str) for str in string[1].split(','))\n",
    "    point2 = tuple(int(str)+1 for str in string[2].split(','))\n",
    "\n",
    "    return command, [point1, point2]\n",
    "            \n",
    "\n",
    "def howManyOnLights(string_list):\n",
    "    'Computes the total number of lights that are on after applying all commands'\n",
    "    \n",
    "    grid = np.zeros((1000, 1000), dtype=int)\n",
    "    \n",
    "    for string in string_list:\n",
    "        lightingConfig(*readCommand(string),grid)\n",
    "\n",
    "    return np.sum(grid)"
   ]
  },
  {
   "cell_type": "code",
   "execution_count": 512,
   "id": "0577424f-2143-4ebc-ad6a-e0190c8b7d3a",
   "metadata": {},
   "outputs": [
    {
     "data": {
      "text/plain": [
       "377891"
      ]
     },
     "execution_count": 512,
     "metadata": {},
     "output_type": "execute_result"
    }
   ],
   "source": [
    "f = open('Day6_LightingPlan', 'r')\n",
    "f = f.readlines()\n",
    "howManyOnLights(f)"
   ]
  },
  {
   "cell_type": "markdown",
   "id": "59a8d046-a6e2-4db2-b76c-6156369126c2",
   "metadata": {},
   "source": [
    "## --- Part Two ---\n",
    "\n",
    "You just finish implementing your winning light pattern when you realize you mistranslated Santa's message from Ancient Nordic Elvish.\n",
    "\n",
    "The light grid you bought actually has individual brightness controls; each light can have a brightness of zero or more. The lights all start at zero.\n",
    "\n",
    "The phrase turn on actually means that you should increase the brightness of those lights by 1.\n",
    "\n",
    "The phrase turn off actually means that you should decrease the brightness of those lights by 1, to a minimum of zero.\n",
    "\n",
    "The phrase toggle actually means that you should increase the brightness of those lights by 2.\n",
    "\n",
    "What is the total brightness of all lights combined after following Santa's instructions?\n",
    "\n",
    "For example:\n",
    "- turn on 0,0 through 0,0 would increase the total brightness by 1.\n",
    "- toggle 0,0 through 999,999 would increase the total brightness by 2000000.\n"
   ]
  },
  {
   "cell_type": "code",
   "execution_count": 519,
   "id": "7013cb50-df3c-4604-9c70-1be4c207452d",
   "metadata": {},
   "outputs": [],
   "source": [
    "def lightingConfig_v2(command, sqr_corners, grid):\n",
    "    'Updates the grid based on the command and the given area'\n",
    "    \n",
    "    top_left, bottom_right = sqr_corners\n",
    "    # Select the area of the grid to modify\n",
    "    selected_area = np.flip(grid, 0)[top_left[1]:bottom_right[1], top_left[0]:bottom_right[0]]\n",
    "    \n",
    "    if command == 'on':\n",
    "        selected_area[:] += 1\n",
    "    elif command == 'off':\n",
    "        selected_area[~np.isin(selected_area, 0)] -= 1\n",
    "    elif command == 'toggle':\n",
    "        selected_area[:] += 2\n",
    "\n",
    "\n",
    "def howManyOnLights_v2(string_list):\n",
    "    'Computes the total number of lights that are on after applying all commands'\n",
    "    \n",
    "    grid = np.zeros((1000, 1000), dtype=int)\n",
    "    \n",
    "    for string in string_list:\n",
    "        lightingConfig_v2(*readCommand(string),grid)\n",
    "\n",
    "    return np.sum(grid)"
   ]
  },
  {
   "cell_type": "code",
   "execution_count": 520,
   "id": "b7d40535-3a1e-4161-8a97-9ac9cf801b0a",
   "metadata": {},
   "outputs": [
    {
     "data": {
      "text/plain": [
       "14110788"
      ]
     },
     "execution_count": 520,
     "metadata": {},
     "output_type": "execute_result"
    }
   ],
   "source": [
    "howManyOnLights_v2(f)"
   ]
  },
  {
   "cell_type": "markdown",
   "id": "ecafc62d-95d4-4179-a44b-02a68c32f0d4",
   "metadata": {},
   "source": [
    "# --- Day 7: Some Assembly Required ---\n"
   ]
  },
  {
   "cell_type": "code",
   "execution_count": null,
   "id": "30a46e44-ca4c-4d68-946c-6dcd187d390f",
   "metadata": {},
   "outputs": [],
   "source": []
  }
 ],
 "metadata": {
  "kernelspec": {
   "display_name": "Python 3 (ipykernel)",
   "language": "python",
   "name": "python3"
  },
  "language_info": {
   "codemirror_mode": {
    "name": "ipython",
    "version": 3
   },
   "file_extension": ".py",
   "mimetype": "text/x-python",
   "name": "python",
   "nbconvert_exporter": "python",
   "pygments_lexer": "ipython3",
   "version": "3.8.18"
  }
 },
 "nbformat": 4,
 "nbformat_minor": 5
}
